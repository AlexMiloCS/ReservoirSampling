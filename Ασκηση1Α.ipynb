{
 "cells": [
  {
   "cell_type": "code",
   "execution_count": 16,
   "id": "dbfce0a3",
   "metadata": {},
   "outputs": [],
   "source": [
    "import random\n",
    "    \n",
    "def sample(file_path, k):\n",
    "    reservoir = []\n",
    "    items_seen = 1\n",
    "    with open(file_path, 'r') as file:\n",
    "        for i, line in enumerate(file):\n",
    "            item = line.strip()  # Αφαιρούμε κενά και αλλαγές γραμμής\n",
    "            if i <k:\n",
    "                reservoir.append(item)\n",
    "            else:\n",
    "                probability = k / items_seen\n",
    "                if random.random() < probability:\n",
    "                    j=random.randint(0, k-1)\n",
    "                    reservoir[j] = item\n",
    "            items_seen +=1    \n",
    "    return reservoir"
   ]
  },
  {
   "cell_type": "code",
   "execution_count": 17,
   "id": "462f6a4d",
   "metadata": {
    "scrolled": true
   },
   "outputs": [
    {
     "name": "stdout",
     "output_type": "stream",
     "text": [
      "Sample: ['Tyus Jones', 'LeBron James', 'Steve Nash', 'Norris Cole', 'Jordan Crawford', 'Michael Kidd-Gilchrist', 'Sasha Pavlovic', 'Jason Smith', 'Drew Neitzel', 'Amir Hinton']\n"
     ]
    }
   ],
   "source": [
    "file_path = 'input.txt'\n",
    "k = 10  # Μέγεθος δείγματος\n",
    "# Κλήση της συνάρτησης δειγματοληψίας\n",
    "sample= sample(file_path, k)\n",
    "print(\"Sample:\", sample)"
   ]
  },
  {
   "cell_type": "code",
   "execution_count": null,
   "id": "e6358d45",
   "metadata": {},
   "outputs": [],
   "source": []
  }
 ],
 "metadata": {
  "kernelspec": {
   "display_name": "Python 3 (ipykernel)",
   "language": "python",
   "name": "python3"
  },
  "language_info": {
   "codemirror_mode": {
    "name": "ipython",
    "version": 3
   },
   "file_extension": ".py",
   "mimetype": "text/x-python",
   "name": "python",
   "nbconvert_exporter": "python",
   "pygments_lexer": "ipython3",
   "version": "3.10.9"
  }
 },
 "nbformat": 4,
 "nbformat_minor": 5
}
